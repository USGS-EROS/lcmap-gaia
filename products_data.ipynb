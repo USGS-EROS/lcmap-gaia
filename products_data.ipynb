{
 "cells": [
  {
   "cell_type": "code",
   "execution_count": 1,
   "metadata": {},
   "outputs": [],
   "source": [
    "(require '[cemerick.pomegranate :as pom])"
   ]
  },
  {
   "cell_type": "code",
   "execution_count": 2,
   "metadata": {},
   "outputs": [],
   "source": [
    "(pom/add-classpath \"/home/caustin/workspace/lcmap-gaia/target/gaia-0.1.0-SNAPSHOT-standalone.jar\")\n",
    ";(pom/add-classpath \"/home/caustin/.m2/repository/clojure/tools/logging.clj\")"
   ]
  },
  {
   "cell_type": "code",
   "execution_count": 3,
   "metadata": {},
   "outputs": [],
   "source": [
    "(require '[lcmap.gaia.products :as products]\n",
    "         '[lcmap.gaia.file :as file]\n",
    "         '[lcmap.gaia.util :as util])"
   ]
  },
  {
   "cell_type": "code",
   "execution_count": 4,
   "metadata": {},
   "outputs": [
    {
     "data": {
      "text/plain": [
       "#'user/segments"
      ]
     },
     "execution_count": 4,
     "metadata": {},
     "output_type": "execute_result"
    }
   ],
   "source": [
    "(def segments (file/read-json \"resources/cx-2115585_cy3119805_segment.json\"))"
   ]
  },
  {
   "cell_type": "code",
   "execution_count": 5,
   "metadata": {},
   "outputs": [
    {
     "data": {
      "text/plain": [
       "#'user/predictions"
      ]
     },
     "execution_count": 5,
     "metadata": {},
     "output_type": "execute_result"
    }
   ],
   "source": [
    "(def predictions (file/read-json \"resources/cx-2115585_cy3119805_prediction.json\"))"
   ]
  },
  {
   "cell_type": "code",
   "execution_count": 6,
   "metadata": {},
   "outputs": [
    {
     "data": {
      "text/plain": [
       "#'user/segments_predictions"
      ]
     },
     "execution_count": 6,
     "metadata": {},
     "output_type": "execute_result"
    }
   ],
   "source": [
    "(def segments_predictions (products/merge-maps-by-keys segments predictions [\"px\" \"py\" \"cx\" \"cy\" \"sday\" \"eday\"]))"
   ]
  },
  {
   "cell_type": "code",
   "execution_count": 7,
   "metadata": {},
   "outputs": [
    {
     "data": {
      "text/plain": [
       "#'user/pixel_segments"
      ]
     },
     "execution_count": 7,
     "metadata": {},
     "output_type": "execute_result"
    }
   ],
   "source": [
    "(def pixel_segments (util/coll-groups segments_predictions [\"px\" \"py\"]))"
   ]
  },
  {
   "cell_type": "code",
   "execution_count": 8,
   "metadata": {},
   "outputs": [
    {
     "data": {
      "text/plain": [
       "#'user/first_pixel_segment"
      ]
     },
     "execution_count": 8,
     "metadata": {},
     "output_type": "execute_result"
    }
   ],
   "source": [
    "(def first_pixel_segment (first pixel_segments))"
   ]
  },
  {
   "cell_type": "code",
   "execution_count": 9,
   "metadata": {},
   "outputs": [
    {
     "data": {
      "text/plain": [
       "#'user/pixel_models"
      ]
     },
     "execution_count": 9,
     "metadata": {},
     "output_type": "execute_result"
    }
   ],
   "source": [
    "(def pixel_map (first first_pixel_segment))\n",
    "(def pixel_models (last first_pixel_segment))"
   ]
  },
  {
   "cell_type": "code",
   "execution_count": 10,
   "metadata": {},
   "outputs": [
    {
     "data": {
      "text/plain": [
       "#'user/query_day"
      ]
     },
     "execution_count": 10,
     "metadata": {},
     "output_type": "execute_result"
    }
   ],
   "source": [
    "(def query_day \"1990-07-01\")"
   ]
  },
  {
   "cell_type": "code",
   "execution_count": 11,
   "metadata": {},
   "outputs": [
    {
     "name": "stdout",
     "output_type": "stream",
     "text": [
      "IndexOutOfBoundsException   clojure.lang.RT.nthFrom (RT.java:885)\n"
     ]
    },
    {
     "ename": "class java.lang.IndexOutOfBoundsException",
     "evalue": "",
     "output_type": "error",
     "traceback": [
      "                RT.java:   885 clojure.lang.RT/nthFrom                                ",
      "                RT.java:   854 clojure.lang.RT/nth                                    ",
      "           products.clj:   127 lcmap.gaia.products$model_class/invokeStatic           ",
      "           products.clj:   122 lcmap.gaia.products$model_class/invoke                 ",
      "                     []:     1 user$eval5824/invokeStatic                             ",
      "               core.clj:  3105 clojure.core$eval/invokeStatic                         ",
      "               core.clj:  3101 clojure.core$eval/invoke                               ",
      "               main.clj:   240 clojure.main$repl$read_eval_print__7408$fn__7411/invoke",
      "               main.clj:   258 clojure.main$repl$fn__7417/invoke                      ",
      "               main.clj:   174 clojure.main$repl/doInvoke                             ",
      "            RestFn.java:  1523 clojure.lang.RestFn/invoke                             ",
      "               AFn.java:   152 clojure.lang.AFn/applyToHelper                         ",
      "               AFn.java:   144 clojure.lang.AFn/applyTo                               ",
      "               core.clj:   646 clojure.core$apply/invokeStatic                        ",
      "               core.clj:  1881 clojure.core$with_bindings_STAR_/invokeStatic          ",
      "            RestFn.java:   425 clojure.lang.RestFn/invoke                             ",
      "               AFn.java:    22 clojure.lang.AFn/run                                   ",
      "ThreadPoolExecutor.java:  1149 java.util.concurrent.ThreadPoolExecutor/runWorker      ",
      "ThreadPoolExecutor.java:   624 java.util.concurrent.ThreadPoolExecutor$Worker/run     ",
      "            Thread.java:   748 java.lang.Thread/run                                   "
     ]
    }
   ],
   "source": [
    "(products/model-class (first pixel_models) query_day 0)"
   ]
  },
  {
   "cell_type": "code",
   "execution_count": 14,
   "metadata": {},
   "outputs": [
    {
     "data": {
      "text/plain": [
       "(\"bday\" \"blcoef\" \"blint\" \"blmag\" \"blrmse\" \"chprob\" \"curqa\" \"cx\" \"cy\" \"eday\" \"grcoef\" \"grint\" \"grmag\" \"grrmse\" \"nicoef\" \"niint\" \"nimag\" \"nirmse\" \"prob\" \"px\" \"py\" \"recoef\" \"reint\" \"remag\" \"rermse\" \"s1coef\" \"s1int\" \"s1mag\" \"s1rmse\" \"s2coef\" \"s2int\" \"s2mag\" \"s2rmse\" \"sday\" \"thcoef\" \"thint\" \"thmag\" \"thrmse\")"
      ]
     },
     "execution_count": 14,
     "metadata": {},
     "output_type": "execute_result"
    }
   ],
   "source": [
    "(sort (keys (first pixel_models)))"
   ]
  },
  {
   "cell_type": "code",
   "execution_count": 15,
   "metadata": {},
   "outputs": [
    {
     "data": {
      "text/plain": [
       "[1.6417161E-8 6.6413847E-8 0.082641214 7.0137938E-4 0.3288632 0.23013946 3.1727698E-9 6.6413847E-8 0.35765457]"
      ]
     },
     "execution_count": 15,
     "metadata": {},
     "output_type": "execute_result"
    }
   ],
   "source": [
    "(get (first pixel_models) \"prob\")"
   ]
  },
  {
   "cell_type": "code",
   "execution_count": null,
   "metadata": {},
   "outputs": [],
   "source": []
  }
 ],
 "metadata": {
  "kernelspec": {
   "display_name": "Clojure",
   "language": "clojure",
   "name": "clojure"
  },
  "language_info": {
   "file_extension": ".clj",
   "mimetype": "text/x-clojure",
   "name": "clojure",
   "version": "1.8.0"
  }
 },
 "nbformat": 4,
 "nbformat_minor": 2
}
